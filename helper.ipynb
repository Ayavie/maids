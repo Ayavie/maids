{
 "cells": [
  {
   "cell_type": "markdown",
   "metadata": {},
   "source": [
    "Convert test csv to mysql db\n"
   ]
  },
  {
   "cell_type": "code",
   "execution_count": 1,
   "metadata": {},
   "outputs": [
    {
     "name": "stdout",
     "output_type": "stream",
     "text": [
      "Defaulting to user installation because normal site-packages is not writeable\n",
      "Requirement already satisfied: pandas in /home/aya/.local/lib/python3.10/site-packages (2.2.1)\n",
      "Collecting mysql-connector-python\n",
      "  Downloading mysql_connector_python-8.4.0-cp310-cp310-manylinux_2_17_x86_64.whl (19.4 MB)\n",
      "\u001b[2K     \u001b[90m━━━━━━━━━━━━━━━━━━━━━━━━━━━━━━━━━━━━━━━\u001b[0m \u001b[32m19.4/19.4 MB\u001b[0m \u001b[31m547.5 kB/s\u001b[0m eta \u001b[36m0:00:00\u001b[0m00:01\u001b[0m00:01\u001b[0m\n",
      "\u001b[?25hRequirement already satisfied: python-dateutil>=2.8.2 in /home/aya/.local/lib/python3.10/site-packages (from pandas) (2.8.2)\n",
      "Requirement already satisfied: tzdata>=2022.7 in /home/aya/.local/lib/python3.10/site-packages (from pandas) (2024.1)\n",
      "Requirement already satisfied: numpy<2,>=1.22.4 in /home/aya/.local/lib/python3.10/site-packages (from pandas) (1.26.4)\n",
      "Requirement already satisfied: pytz>=2020.1 in /usr/lib/python3/dist-packages (from pandas) (2022.1)\n",
      "Requirement already satisfied: six>=1.5 in /usr/lib/python3/dist-packages (from python-dateutil>=2.8.2->pandas) (1.16.0)\n",
      "Installing collected packages: mysql-connector-python\n",
      "Successfully installed mysql-connector-python-8.4.0\n"
     ]
    }
   ],
   "source": [
    "!pip install pandas mysql-connector-python"
   ]
  },
  {
   "cell_type": "code",
   "execution_count": 11,
   "metadata": {},
   "outputs": [],
   "source": [
    "import pandas as pd\n",
    "import mysql.connector\n",
    "\n",
    "# MySQL Connection Configuration\n",
    "db_config = {\n",
    "    'host': '127.0.0.1',\n",
    "    'user': 'root',\n",
    "    'password': 'password',\n",
    "    'database': 'maid'\n",
    "}\n",
    "\n",
    "# CSV File Path\n",
    "csv_file_path = 'test.csv'\n",
    "\n",
    "def csv_to_mysql(csv_file_path, db_config):\n",
    "    # Read CSV file into a DataFrame\n",
    "    df = pd.read_csv(csv_file_path)\n",
    "\n",
    "    # Connect to MySQL database\n",
    "    conn = mysql.connector.connect(**db_config)\n",
    "    cursor = conn.cursor()\n",
    "\n",
    "    # Prepare SQL query to create table\n",
    "\n",
    "    create_table_query = \"\"\"\n",
    "        CREATE TABLE IF NOT EXISTS testdata (\n",
    "                id INT AUTO_INCREMENT PRIMARY KEY,\n",
    "                battery_power FLOAT,\n",
    "                blue INT,\n",
    "                clock_speed FLOAT,\n",
    "                dual_sim INT,\n",
    "                fc FLOAT,\n",
    "                four_g INT,\n",
    "                int_memory INT,\n",
    "                m_dep FLOAT,\n",
    "                mobile_wt FLOAT,\n",
    "                n_cores INT,\n",
    "                pc FLOAT,\n",
    "                px_height FLOAT,\n",
    "                px_width FLOAT,\n",
    "                ram FLOAT,\n",
    "                sc_h FLOAT,\n",
    "                sc_w FLOAT,\n",
    "                talk_time INT,\n",
    "                three_g INT,\n",
    "                touch_screen INT,\n",
    "                wifi INT\n",
    "            \n",
    "        )\n",
    "    \"\"\"\n",
    "    cursor.execute(create_table_query)\n",
    "\n",
    "    # Iterate over each row in the DataFrame and insert into MySQL\n",
    "    for _, row in df.iloc[:,1:].iterrows():\n",
    "    # Prepare SQL query to insert data\n",
    "        insert_query = \"\"\"\n",
    "        INSERT INTO testdata (battery_power, blue, clock_speed, dual_sim, fc,\n",
    "                                four_g, int_memory, m_dep, mobile_wt, n_cores,\n",
    "                                pc, px_height, px_width, ram, sc_h, sc_w,\n",
    "                                talk_time, three_g, touch_screen, wifi)\n",
    "            VALUES (%s, %s, %s, %s, %s,\n",
    "                    %s, %s, %s, %s, %s,\n",
    "                    %s, %s, %s, %s, %s,\n",
    "                    %s, %s, %s, %s, %s)\n",
    "        \"\"\"\n",
    "    \n",
    "        data = tuple(row)\n",
    "        cursor.execute(insert_query, data)\n",
    "\n",
    "    # Commit changes and close connection\n",
    "    conn.commit()\n",
    "    cursor.close()\n",
    "    conn.close()\n",
    "\n",
    "# Call the function to convert CSV to MySQL\n",
    "csv_to_mysql(csv_file_path, db_config)\n"
   ]
  },
  {
   "cell_type": "code",
   "execution_count": null,
   "metadata": {},
   "outputs": [],
   "source": []
  }
 ],
 "metadata": {
  "kernelspec": {
   "display_name": "Python 3",
   "language": "python",
   "name": "python3"
  },
  "language_info": {
   "codemirror_mode": {
    "name": "ipython",
    "version": 3
   },
   "file_extension": ".py",
   "mimetype": "text/x-python",
   "name": "python",
   "nbconvert_exporter": "python",
   "pygments_lexer": "ipython3",
   "version": "3.10.12"
  }
 },
 "nbformat": 4,
 "nbformat_minor": 2
}
